{
 "cells": [
  {
   "cell_type": "code",
   "execution_count": 4,
   "metadata": {},
   "outputs": [],
   "source": [
    "import pandas as pd\n",
    "import seaborn as sns\n",
    "import matplotlib.pyplot as plt\n",
    "from functools import reduce\n",
    "import statsmodels.api as sm\n",
    "\n",
    "# Load the dataset\n",
    "surveyV1_df = pd.read_csv(\"D:/ExportFile/TVSEP2022SurveyV1.csv\", low_memory=False)\n",
    "shocks_df = pd.read_csv(\"D:/ExportFile/shocks.csv\",low_memory=False)\n",
    "shocks_details_df = pd.read_csv(\"D:/ExportFile/shocks_detail.csv\",low_memory=False)\n",
    "\n",
    "surveyV1Col = list(surveyV1_df.columns)\n",
    "shocksCol = list(shocks_df.columns)\n",
    "shocksDeCol = list(shocks_details_df.columns)\n",
    "\n",
    "\n",
    "\n",
    "#data = data[shockRelated]"
   ]
  },
  {
   "cell_type": "code",
   "execution_count": 6,
   "metadata": {},
   "outputs": [
    {
     "name": "stdout",
     "output_type": "stream",
     "text": [
      "['Unnamed: 0', 'interview__key', 'interview__id', 'shocks__id', 'shocks_detail__id', 'v31102d', 'v31102a__0', 'v31102a__1', 'v31102a__2', 'v31102a__3', 'v31102a__4', 'v31102a__5', 'v31102a__6', 'v31102a__7', 'v31102a__8', 'v31102a__9', 'v31102a__10', 'v31102a__11', 'v31102a__12', 'v31102a__13', 'v31102a__14', 'v31102a__15', 'v31102a__16', 'v31102a__17', 'v31102a__18', 'v31102a__19', 'rowcode_shock', 'v31103', 'v31103a', 'v31103c', 'v31104', 'v31105a', 'v31105b', 'v31106a', 'shockmoneyloss', 'v31107', 'v31108a__1', 'v31108a__2', 'v31108a__3', 'v31108a__4', 'v31108a__5', 'v31108a__6', 'v31108a__7', 'v31108__40', 'v31108__41', 'v31108__42', 'v31108__43', 'v31108__3', 'v31108__4', 'v31108__5', 'v31108__6', 'v31108__7', 'v31108__8', 'v31108__9', 'v31108__10', 'v31108__11', 'v31108__12', 'v31108__13', 'v31108__14', 'v31108__15', 'v31108__16', 'v31108__17', 'v31108__18', 'v31108__19', 'v31108__20', 'v31108__21', 'v31108__22', 'v31108__23', 'v31108__24', 'v31108__25', 'v31108__26', 'v31108__27', 'v31108__28', 'v31108__29', 'v31108__30', 'v31108__31', 'v31108__48', 'v31108__49', 'v31108__50', 'v31108__51', 'v31108__52', 'v31108__53', 'v31108__54', 'v31108__55', 'v31108__62', 'v31108__63', 'v31108__90', 'v31108__98', 'specify_v31108', 'v31111', 'v31112a', 'shockdate', 'corryear', 'v31127__0', 'v31127__1', 'v31127__2', 'v31127__3', 'v31127__4', 'v31127__5', 'v31127__98', 'specify_v31127']\n"
     ]
    }
   ],
   "source": [
    "print(shocksCol)"
   ]
  },
  {
   "cell_type": "code",
   "execution_count": null,
   "metadata": {},
   "outputs": [],
   "source": [
    "# List of DataFrames to merge\n",
    "dfs = [surveyV1_df, shocks_df, shocks_details_df]\n",
    "\n",
    "# Merge all DataFrames on 'interview_key'\n",
    "# Merge all DataFrames on 'interview_key'\n",
    "merged_df = reduce(lambda left, right: pd.merge(left, right, on=\"interview_key\", how=\"outer\"), dfs)\n",
    "#merged_df = reduce(lambda left, right: pd.merge(left, right, on=\"interview__key\", how=\"outer\"), dfs)\n",
    "merged_df.fillna(0, inplace=True)"
   ]
  },
  {
   "cell_type": "code",
   "execution_count": null,
   "metadata": {},
   "outputs": [],
   "source": [
    "mList = list(merged_df)\n",
    "print(mList)"
   ]
  },
  {
   "cell_type": "code",
   "execution_count": null,
   "metadata": {},
   "outputs": [],
   "source": [
    "# Select numerical columns for descriptive statistics\n",
    "\"\"\"\n",
    "shockRelated = [\n",
    "'v31102__6', 'v31102__10', 'v31102__11', 'v31102__63', 'v31102__16', 'v31102__55', 'v31102__77', 'v31102__5', 'v31102__8', 'v31102__1',\n",
    " 'v31102__2', 'v31102__3', 'v31102__24', 'v31102__46', 'v31102__62', 'v31102__18', 'v31102__21', 'v31102__22', 'v31102__70', 'v31102__90',\n",
    " 'v31102b','v31105a', 'v31105b','v31106a','v31108a__1', 'v31108a__2', 'v31108a__3', 'v31108a__4', 'v31108a__5', 'v31108a__6', 'v31108a__7',\n",
    " 'v31108__40', 'v31108__41', 'v31108__42', 'v31108__43', 'v31108__3', 'v31108__4', 'v31108__5', 'v31108__6', 'v31108__7', 'v31108__8', 'v31108__9', \n",
    " 'v31108__10', 'v31108__11', 'v31108__12', 'v31108__13', 'v31108__14', 'v31108__15', 'v31108__16', 'v31108__17', 'v31108__18', 'v31108__19', \n",
    " 'v31108__20', 'v31108__21', 'v31108__22', 'v31108__23', 'v31108__24', 'v31108__25', 'v31108__26', 'v31108__27', 'v31108__28', 'v31108__29', \n",
    " 'v31108__30', 'v31108__31', 'v31108__48', 'v31108__49', 'v31108__50', 'v31108__51', 'v31108__52', 'v31108__53', 'v31108__54', 'v31108__55', \n",
    " 'v31108__62', 'v31108__63', 'v31108__90', 'v31108__98']\n",
    " \"\"\"\n",
    "\n",
    "shockIndex_df = merged_df.iloc[:,\"v31102__6\"]\n",
    "shockIndex_df.head()"
   ]
  },
  {
   "cell_type": "code",
   "execution_count": null,
   "metadata": {},
   "outputs": [],
   "source": [
    "shockIndex_df = data.iloc[:,[shockRelated]]"
   ]
  },
  {
   "cell_type": "code",
   "execution_count": null,
   "metadata": {},
   "outputs": [],
   "source": [
    "\n",
    "#shockRelated.head()\n",
    "\n",
    "data.head()\n",
    "\n",
    "# Compute descriptive statistics\n",
    "#descriptive_stats = data[shockRelated].describe()\n",
    "#print(descriptive_stats)"
   ]
  },
  {
   "cell_type": "code",
   "execution_count": null,
   "metadata": {},
   "outputs": [],
   "source": [
    "# Select variables for correlation analysis\n",
    "correlation_columns = [\"PYIncCap\", \"hh_size\", \"head_age\", \"total_asset\", \"owned_land\"]\n",
    "\n",
    "# Compute correlation matrix\n",
    "correlation_matrix = data[correlation_columns].corr()\n",
    "print(correlation_matrix)"
   ]
  },
  {
   "cell_type": "code",
   "execution_count": null,
   "metadata": {},
   "outputs": [],
   "source": [
    "\n",
    "\n",
    "# Heatmap of correlations\n",
    "sns.heatmap(correlation_matrix, annot=True, cmap=\"coolwarm\")\n",
    "plt.title(\"Correlation Matrix\")\n",
    "plt.show()\n",
    "\n",
    "# Scatter plot: Income vs. Household Size\n",
    "sns.scatterplot(x=\"hh_size\", y=\"PYIncCap\", data=data)\n",
    "plt.title(\"Income vs. Household Size\")\n",
    "plt.xlabel(\"Household Size\")\n",
    "plt.ylabel(\"Per Capita Income\")\n",
    "plt.show()"
   ]
  },
  {
   "cell_type": "code",
   "execution_count": null,
   "metadata": {},
   "outputs": [],
   "source": [
    "#Testing the corelation between no_shock and total_asset\n",
    "# Select relevant columns\n",
    "shocks_corelelation = [\"no_shocks\", \"total_asset\"]\n",
    "\n",
    "# Drop rows with missing values in the selected columns\n",
    "data_cleaned = data[shocks_corelelation].dropna()\n",
    "\n",
    "# Descriptive statistics\n",
    "print(data_cleaned.describe())\n",
    "\n",
    "# Correlation analysis\n",
    "correlation = data_cleaned[\"no_shocks\"].corr(data_cleaned[\"total_asset\"])\n",
    "print(f\"Correlation between no_shocks and total_asset: {correlation}\")\n",
    "\n",
    "# Scatter plot\n",
    "plt.scatter(data_cleaned[\"no_shocks\"], data_cleaned[\"total_asset\"], alpha=0.5)\n",
    "plt.title(\"Relationship between No. of Shocks and Total Assets\")\n",
    "plt.xlabel(\"Number of Shocks\")\n",
    "plt.ylabel(\"Total Assets\")\n",
    "plt.show()\n"
   ]
  },
  {
   "cell_type": "code",
   "execution_count": null,
   "metadata": {},
   "outputs": [],
   "source": [
    "# Define the independent (X) and dependent (Y) variables\n",
    "X = data_cleaned[\"no_shocks\"]\n",
    "Y = data_cleaned[\"total_asset\"]\n",
    "\n",
    "# Add a constant to the independent variable\n",
    "X = sm.add_constant(X)\n",
    "\n",
    "# Fit the regression model\n",
    "model = sm.OLS(Y, X).fit()\n",
    "\n",
    "# Print the regression summary\n",
    "print(model.summary())"
   ]
  }
 ],
 "metadata": {
  "kernelspec": {
   "display_name": "base",
   "language": "python",
   "name": "python3"
  },
  "language_info": {
   "codemirror_mode": {
    "name": "ipython",
    "version": 3
   },
   "file_extension": ".py",
   "mimetype": "text/x-python",
   "name": "python",
   "nbconvert_exporter": "python",
   "pygments_lexer": "ipython3",
   "version": "3.12.4"
  }
 },
 "nbformat": 4,
 "nbformat_minor": 2
}
