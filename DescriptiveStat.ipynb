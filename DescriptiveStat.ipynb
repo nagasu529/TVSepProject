{
 "cells": [
  {
   "cell_type": "code",
   "execution_count": null,
   "metadata": {},
   "outputs": [],
   "source": [
    "import pandas as pd\n",
    "\n",
    "# Load the dataset\n",
    "data = pd.read_csv(\"D:/Full_All_TVSEP.csv\")\n",
    "\n",
    "# Select numerical columns for descriptive statistics\n",
    "numerical_columns = [\n",
    "    \"head_age\", \"hh_size\", \"no_children_under6\", \"no_children_schoolage\",\n",
    "    \"no_adult\", \"no_elderly\", \"PYIncCap\", \"PMIncCap\", \"PDIncCap\",\n",
    "    \"PYConsaggCap\", \"PMConsaggCap\", \"PDConsaggCap\", \"total_asset\",\n",
    "    \"owned_land\", \"managed_land\", \"no_land_plot\", \"no_shocks\", \"loss_shocks\",\n",
    "    \"no_mobilphone\", \"no_smartphone\", \"cov_infected_cov\", \"cov_vaccinated_mem\"\n",
    "]\n",
    "\n",
    "# Compute descriptive statistics\n",
    "descriptive_stats = data[numerical_columns].describe()\n",
    "print(descriptive_stats)"
   ]
  }
 ],
 "metadata": {
  "kernelspec": {
   "display_name": "base",
   "language": "python",
   "name": "python3"
  },
  "language_info": {
   "name": "python",
   "version": "3.12.4"
  }
 },
 "nbformat": 4,
 "nbformat_minor": 2
}
