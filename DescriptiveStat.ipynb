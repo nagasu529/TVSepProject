{
 "cells": [
  {
   "cell_type": "code",
   "execution_count": null,
   "metadata": {},
   "outputs": [],
   "source": [
    "import pandas as pd\n",
    "import seaborn as sns\n",
    "import matplotlib.pyplot as plt\n",
    "import statsmodels.api as sm\n",
    "\n",
    "# Load the dataset\n",
    "#data = pd.read_csv(\"D:/ExportFile/Full_All_TVSEP.csv\")     \n",
    "data = pd.read_csv(\"D:/ExportFile/Full_All_TVSEP.csv\")      #BSRU PC class path.\n",
    "data.head()"
   ]
  },
  {
   "cell_type": "code",
   "execution_count": null,
   "metadata": {},
   "outputs": [],
   "source": [
    "# Select numerical columns for descriptive statistics\n",
    "numerical_columns = [\n",
    "    \"head_age\", \"hh_size\", \"no_children_under6\", \"no_children_schoolage\",\n",
    "    \"no_adult\", \"no_elderly\", \"PYIncCap\", \"PMIncCap\", \"PDIncCap\",\n",
    "    \"PYConsaggCap\", \"PMConsaggCap\", \"PDConsaggCap\", \"total_asset\",\n",
    "    \"owned_land\", \"managed_land\", \"no_land_plot\", \"no_shocks\", \"loss_shocks\",\n",
    "    \"no_mobilphone\", \"no_smartphone\", \"cov_infected_cov\", \"cov_vaccinated_mem\"\n",
    "]\n",
    "\n",
    "# Compute descriptive statistics\n",
    "descriptive_stats = data[numerical_columns].describe()\n",
    "print(descriptive_stats)"
   ]
  },
  {
   "cell_type": "code",
   "execution_count": null,
   "metadata": {},
   "outputs": [],
   "source": [
    "# Select variables for correlation analysis\n",
    "correlation_columns = [\"PYIncCap\", \"hh_size\", \"head_age\", \"total_asset\", \"owned_land\"]\n",
    "\n",
    "# Compute correlation matrix\n",
    "correlation_matrix = data[correlation_columns].corr()\n",
    "print(correlation_matrix)"
   ]
  },
  {
   "cell_type": "code",
   "execution_count": null,
   "metadata": {},
   "outputs": [],
   "source": [
    "\n",
    "\n",
    "# Heatmap of correlations\n",
    "sns.heatmap(correlation_matrix, annot=True, cmap=\"coolwarm\")\n",
    "plt.title(\"Correlation Matrix\")\n",
    "plt.show()\n",
    "\n",
    "# Scatter plot: Income vs. Household Size\n",
    "sns.scatterplot(x=\"hh_size\", y=\"PYIncCap\", data=data)\n",
    "plt.title(\"Income vs. Household Size\")\n",
    "plt.xlabel(\"Household Size\")\n",
    "plt.ylabel(\"Per Capita Income\")\n",
    "plt.show()"
   ]
  },
  {
   "cell_type": "code",
   "execution_count": null,
   "metadata": {},
   "outputs": [],
   "source": [
    "#Testing the corelation between no_shock and total_asset\n",
    "# Select relevant columns\n",
    "shocks_corelelation = [\"no_shocks\", \"total_asset\"]\n",
    "\n",
    "# Drop rows with missing values in the selected columns\n",
    "data_cleaned = data[shocks_corelelation].dropna()\n",
    "\n",
    "# Descriptive statistics\n",
    "print(data_cleaned.describe())\n",
    "\n",
    "# Correlation analysis\n",
    "correlation = data_cleaned[\"no_shocks\"].corr(data_cleaned[\"total_asset\"])\n",
    "print(f\"Correlation between no_shocks and total_asset: {correlation}\")\n",
    "\n",
    "# Scatter plot\n",
    "plt.scatter(data_cleaned[\"no_shocks\"], data_cleaned[\"total_asset\"], alpha=0.5)\n",
    "plt.title(\"Relationship between No. of Shocks and Total Assets\")\n",
    "plt.xlabel(\"Number of Shocks\")\n",
    "plt.ylabel(\"Total Assets\")\n",
    "plt.show()\n"
   ]
  },
  {
   "cell_type": "code",
   "execution_count": null,
   "metadata": {},
   "outputs": [],
   "source": [
    "# Define the independent (X) and dependent (Y) variables\n",
    "X = data_cleaned[\"no_shocks\"]\n",
    "Y = data_cleaned[\"total_asset\"]\n",
    "\n",
    "# Add a constant to the independent variable\n",
    "X = sm.add_constant(X)\n",
    "\n",
    "# Fit the regression model\n",
    "model = sm.OLS(Y, X).fit()\n",
    "\n",
    "# Print the regression summary\n",
    "print(model.summary())"
   ]
  }
 ],
 "metadata": {
  "kernelspec": {
   "display_name": "base",
   "language": "python",
   "name": "python3"
  },
  "language_info": {
   "codemirror_mode": {
    "name": "ipython",
    "version": 3
   },
   "file_extension": ".py",
   "mimetype": "text/x-python",
   "name": "python",
   "nbconvert_exporter": "python",
   "pygments_lexer": "ipython3",
   "version": "3.12.7"
  }
 },
 "nbformat": 4,
 "nbformat_minor": 2
}
