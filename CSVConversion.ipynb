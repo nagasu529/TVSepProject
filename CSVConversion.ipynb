{
 "cells": [
  {
   "cell_type": "code",
   "execution_count": 24,
   "metadata": {},
   "outputs": [
    {
     "name": "stdout",
     "output_type": "stream",
     "text": [
      "First 5 rows of data:\n",
      "  interview__key                     interview__id  \\\n",
      "0    61-84-00-54  e4caefaf3c074773a6e478861d18f0a7   \n",
      "1    61-84-00-54  e4caefaf3c074773a6e478861d18f0a7   \n",
      "2    59-46-95-71  419de10d4606492390aaec2a7fb1e5b9   \n",
      "3    16-60-25-95  22b3b9365e3246b3821baad080732b6b   \n",
      "4    36-89-97-65  782b881d3751484d8cbdf49f3daae2ac   \n",
      "\n",
      "                            shocks__id  v31102b  \\\n",
      "0            Death of household member        1   \n",
      "1  Household member left the household        1   \n",
      "2        Flooding of agricultural land        1   \n",
      "3                             Job loss        1   \n",
      "4          Illness of household member        1   \n",
      "\n",
      "                             typeshock  typeshocknum  shockdisinv  \\\n",
      "0            Death of household member           2.0          0.0   \n",
      "1  Household member left the household           3.0          NaN   \n",
      "2        Flooding of agricultural land          10.0          0.0   \n",
      "3                             Job loss          62.0          0.0   \n",
      "4          Illness of household member           1.0          NaN   \n",
      "\n",
      "   savusedshock  insusedshock  pubtransusedshock  borrusedshock  \n",
      "0           1.0           0.0                0.0              1  \n",
      "1           NaN           NaN                NaN              0  \n",
      "2           1.0           0.0                0.0              0  \n",
      "3           0.0           0.0                1.0              0  \n",
      "4           NaN           NaN                NaN              0  \n",
      "\n",
      "Dataset Info:\n",
      "<class 'pandas.core.frame.DataFrame'>\n",
      "RangeIndex: 2067 entries, 0 to 2066\n",
      "Data columns (total 11 columns):\n",
      " #   Column             Non-Null Count  Dtype   \n",
      "---  ------             --------------  -----   \n",
      " 0   interview__key     2067 non-null   object  \n",
      " 1   interview__id      2067 non-null   object  \n",
      " 2   shocks__id         2067 non-null   category\n",
      " 3   v31102b            2067 non-null   int8    \n",
      " 4   typeshock          2067 non-null   object  \n",
      " 5   typeshocknum       2067 non-null   float64 \n",
      " 6   shockdisinv        676 non-null    float64 \n",
      " 7   savusedshock       676 non-null    float64 \n",
      " 8   insusedshock       676 non-null    float64 \n",
      " 9   pubtransusedshock  676 non-null    float64 \n",
      " 10  borrusedshock      2067 non-null   int8    \n",
      "dtypes: category(1), float64(5), int8(2), object(3)\n",
      "memory usage: 136.1+ KB\n",
      "None\n",
      "\n",
      "Descriptive Statistics:\n",
      "           v31102b  typeshocknum  shockdisinv  savusedshock  insusedshock  \\\n",
      "count  2067.000000   2067.000000   676.000000    676.000000    676.000000   \n",
      "mean      1.053217     21.951137     0.031065      0.418639      0.047337   \n",
      "std       0.273150     21.282933     0.173622      0.589444      0.226029   \n",
      "min       1.000000      1.000000     0.000000      0.000000      0.000000   \n",
      "25%       1.000000     10.000000     0.000000      0.000000      0.000000   \n",
      "50%       1.000000     11.000000     0.000000      0.000000      0.000000   \n",
      "75%       1.000000     22.000000     0.000000      1.000000      0.000000   \n",
      "max       4.000000     90.000000     1.000000      3.000000      2.000000   \n",
      "\n",
      "       pubtransusedshock  borrusedshock  \n",
      "count         676.000000    2067.000000  \n",
      "mean            0.440828       0.023706  \n",
      "std             0.581993       0.152168  \n",
      "min             0.000000       0.000000  \n",
      "25%             0.000000       0.000000  \n",
      "50%             0.000000       0.000000  \n",
      "75%             1.000000       0.000000  \n",
      "max             3.000000       1.000000  \n",
      "\n",
      "Missing Values Per Column:\n",
      "interview__key          0\n",
      "interview__id           0\n",
      "shocks__id              0\n",
      "v31102b                 0\n",
      "typeshock               0\n",
      "typeshocknum            0\n",
      "shockdisinv          1391\n",
      "savusedshock         1391\n",
      "insusedshock         1391\n",
      "pubtransusedshock    1391\n",
      "borrusedshock           0\n",
      "dtype: int64\n"
     ]
    }
   ],
   "source": [
    "import pandas as pd\n",
    "import matplotlib.pyplot as plt\n",
    "\n",
    "# Read the .dta file (BSRU PC, MSI Claw, Home PC)\n",
    "#file_path = \"C:/Users/kitti/VSCodeProjects/TVSepProject/TVSep-sample-data/Full_All_TVSEP.dta\"  # Replace with the path to your .dta file\n",
    "\n",
    "# Read the .dta file (HP Notebook)\n",
    "#file_path = \"C:/Users/Admin/VSCodeProjects/TVSepProject/TVSep-sample-data/Full_2007_TH.dta\"  # dta files data location.\n",
    "file_path = \"C:/Users/NaGaSu/Desktop/shocks.dta\"\n",
    "data = pd.read_stata(file_path)\n",
    "\n",
    "# Display the first few rows\n",
    "print(\"First 5 rows of data:\")\n",
    "print(data.head())\n",
    "\n",
    "# Display basic information about the dataset\n",
    "print(\"\\nDataset Info:\")\n",
    "print(data.info())\n",
    "\n",
    "# Display summary statistics\n",
    "print(\"\\nDescriptive Statistics:\")\n",
    "print(data.describe())\n",
    "\n",
    "# Check for missing values\n",
    "print(\"\\nMissing Values Per Column:\")\n",
    "print(data.isnull().sum())"
   ]
  },
  {
   "cell_type": "code",
   "execution_count": 25,
   "metadata": {},
   "outputs": [
    {
     "name": "stdout",
     "output_type": "stream",
     "text": [
      "['interview__key', 'interview__id', 'shocks__id', 'v31102b', 'typeshock', 'typeshocknum', 'shockdisinv', 'savusedshock', 'insusedshock', 'pubtransusedshock', 'borrusedshock']\n"
     ]
    }
   ],
   "source": [
    "# Replace 'column_name' with the name of the column you want to visualize\n",
    "column_names = list(data.columns)\n",
    "print(column_names)\n",
    "\n"
   ]
  },
  {
   "cell_type": "code",
   "execution_count": null,
   "metadata": {},
   "outputs": [],
   "source": []
  },
  {
   "cell_type": "code",
   "execution_count": 26,
   "metadata": {},
   "outputs": [],
   "source": [
    "#Export data to .csv files.\n",
    "#data.to_csv(\"C:/Full_2007_TH.csv\")\n",
    "data.to_csv(\"D:/ExportFile/shocks.csv\")"
   ]
  },
  {
   "cell_type": "code",
   "execution_count": null,
   "metadata": {},
   "outputs": [],
   "source": [
    "data['subdistr'].hist(bins=20)\n",
    "plt.title(\"Histogram of head_ethnicity\")\n",
    "plt.xlabel(\"Value\")\n",
    "plt.ylabel(\"Frequency\")\n",
    "plt.show()"
   ]
  }
 ],
 "metadata": {
  "kernelspec": {
   "display_name": "base",
   "language": "python",
   "name": "python3"
  },
  "language_info": {
   "codemirror_mode": {
    "name": "ipython",
    "version": 3
   },
   "file_extension": ".py",
   "mimetype": "text/x-python",
   "name": "python",
   "nbconvert_exporter": "python",
   "pygments_lexer": "ipython3",
   "version": "3.12.7"
  }
 },
 "nbformat": 4,
 "nbformat_minor": 2
}
