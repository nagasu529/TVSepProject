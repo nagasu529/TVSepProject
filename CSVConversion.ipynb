{
 "cells": [
  {
   "cell_type": "code",
   "execution_count": null,
   "metadata": {},
   "outputs": [],
   "source": [
    "import pandas as pd\n",
    "import matplotlib.pyplot as plt\n",
    "\n",
    "# Read the .dta file (BSRU PC, MSI Claw, Home PC)\n",
    "file_path = \"C:/Users/kitti/TVSepData/shocks.dta\"\n",
    "file_path = \"C:/Users/kitti/TVSepData/shocks_detail.dta\"\n",
    "#file_path = \"C:/Users/kitti/TVSepData/ShockData/TVSEP2022SurveyV1.dta\"\n",
    "\n",
    "# Read the .dta file (HP Notebook)\n",
    "#file_path = \"C:/Users/Admin/TVSepData/ShockData/shocks.dta\"\n",
    "#file_path = \"C:/Users/Admin/TVSepData/ShockData/shocks_detail.dta\"\n",
    "#file_path = \"C:/Users/Admin/TVSepData/ShockData/TVSEP2022SurveyV1.dta\"\n",
    "data = pd.read_stata(file_path)\n",
    "\n",
    "# Display the first few rows\n",
    "print(\"First 5 rows of data:\")\n",
    "print(data.head())\n",
    "\n",
    "# Display basic information about the dataset\n",
    "print(\"\\nDataset Info:\")\n",
    "print(data.info())\n",
    "\n",
    "# Display summary statistics\n",
    "print(\"\\nDescriptive Statistics:\")\n",
    "print(data.describe())\n",
    "\n",
    "# Check for missing values\n",
    "print(\"\\nMissing Values Per Column:\")\n",
    "print(data.isnull().sum())"
   ]
  },
  {
   "cell_type": "code",
   "execution_count": null,
   "metadata": {},
   "outputs": [],
   "source": [
    "# Replace 'column_name' with the name of the column you want to visualize\n",
    "column_names = list(data.columns)\n",
    "print(column_names)\n",
    "\n"
   ]
  },
  {
   "cell_type": "code",
   "execution_count": null,
   "metadata": {},
   "outputs": [],
   "source": [
    "#Export data to .csv files.\n",
    "#data.to_csv(\"C:/Full_2007_TH.csv\")\n",
    "data.to_csv(\"E:/ExportFile/TVSEP2022SurveyV1.csv\")"
   ]
  },
  {
   "cell_type": "code",
   "execution_count": null,
   "metadata": {},
   "outputs": [],
   "source": []
  },
  {
   "cell_type": "code",
   "execution_count": null,
   "metadata": {},
   "outputs": [],
   "source": [
    "#Descriptive the comlumns overview on seaborn.\n",
    "\n",
    "\"\"\"\n",
    "data['typeshock'].hist(bins=20)\n",
    "plt.title(\"Histogram of head_ethnicity\")\n",
    "plt.xlabel(\"Value\")\n",
    "plt.ylabel(\"Frequency\")\n",
    "plt.show()\n",
    "\"\"\""
   ]
  }
 ],
 "metadata": {
  "kernelspec": {
   "display_name": "base",
   "language": "python",
   "name": "python3"
  },
  "language_info": {
   "codemirror_mode": {
    "name": "ipython",
    "version": 3
   },
   "file_extension": ".py",
   "mimetype": "text/x-python",
   "name": "python",
   "nbconvert_exporter": "python",
   "pygments_lexer": "ipython3",
   "version": "3.12.7"
  }
 },
 "nbformat": 4,
 "nbformat_minor": 2
}
