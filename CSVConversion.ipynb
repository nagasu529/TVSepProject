{
 "cells": [
  {
   "cell_type": "code",
   "execution_count": null,
   "metadata": {},
   "outputs": [],
   "source": [
    "import pandas as pd\n",
    "import matplotlib.pyplot as plt\n",
    "\n",
    "# Read the .dta file (BSRU PC, MSI Claw, Home PC)\n",
    "\"\"\"\n",
    "file_path = \"C:/Users/kitti/TVSepData/shocks.dta\"\n",
    "file_path = \"C:/Users/kitti/TVSepData/shocks_detail.dta\"\n",
    "file_path = \"C:/Users/kitti/TVSepData/ShockData/TVSEP2022SurveyV1.dta\"\n",
    "\"\"\"\n",
    "\n",
    "#Read the .dta data from mac os\n",
    "shocks = \"/Users/nagasu/TVSEP-shock/data2022/stataFiles/shocks.dta\"\n",
    "shocks_detail = \"/Users/nagasu/TVSEP-shock/data2022/stataFiles/shocks_detail.dta\"\n",
    "survey = \"/Users/nagasu/TVSEP-shock/data2022/stataFiles/TVSEP2022SurveyV1.dta\""
   ]
  },
  {
   "cell_type": "code",
   "execution_count": null,
   "metadata": {},
   "outputs": [],
   "source": []
  },
  {
   "cell_type": "code",
   "execution_count": null,
   "metadata": {},
   "outputs": [],
   "source": [
    "shocks_df = pd.read_stata(shocks)\n",
    "shocks_detail_df = pd.read_stata(shocks_detail)\n",
    "survey_df = pd.read_stata(survey)\n",
    "\n",
    "# Data description preview.\n",
    "# Display the first few rows\n",
    "print(\"First 5 rows of data:\")\n",
    "print(shocks_df.head())\n",
    "\n",
    "# Display basic information about the dataset\n",
    "print(\"\\nDataset Info:\")\n",
    "print(shocks_df.info())\n",
    "\n",
    "# Display summary statistics\n",
    "print(\"\\nDescriptive Statistics:\")\n",
    "print(shocks_df.describe())\n",
    "\n",
    "# Check for missing values\n",
    "print(\"\\nMissing Values Per Column:\")\n",
    "print(shocks_df.isnull().sum())"
   ]
  },
  {
   "cell_type": "code",
   "execution_count": null,
   "metadata": {},
   "outputs": [],
   "source": [
    "# Replace 'column_name' with the name of the column you want to visualize\n",
    "column_names = list(shocks_df.columns)\n",
    "print(column_names)\n",
    "\n"
   ]
  },
  {
   "cell_type": "code",
   "execution_count": 10,
   "metadata": {},
   "outputs": [],
   "source": [
    "#Export data to .csv files.\n",
    "\n",
    "shocks_df.to_csv('/Users/nagasu/TVSEP-shock/data2022/csv/shocks.csv')"
   ]
  },
  {
   "cell_type": "code",
   "execution_count": null,
   "metadata": {},
   "outputs": [],
   "source": []
  },
  {
   "cell_type": "code",
   "execution_count": null,
   "metadata": {},
   "outputs": [],
   "source": [
    "#Descriptive the comlumns overview on seaborn.\n",
    "\"\"\"\n",
    "shocks_df['typeshock'].hist(bins=20)\n",
    "plt.title(\"Histogram of head_ethnicity\")\n",
    "plt.xlabel(\"Value\")\n",
    "plt.ylabel(\"Frequency\")\n",
    "plt.show()\n",
    "\"\"\"\n"
   ]
  }
 ],
 "metadata": {
  "kernelspec": {
   "display_name": "base",
   "language": "python",
   "name": "python3"
  },
  "language_info": {
   "codemirror_mode": {
    "name": "ipython",
    "version": 3
   },
   "file_extension": ".py",
   "mimetype": "text/x-python",
   "name": "python",
   "nbconvert_exporter": "python",
   "pygments_lexer": "ipython3",
   "version": "3.13.5"
  }
 },
 "nbformat": 4,
 "nbformat_minor": 2
}
